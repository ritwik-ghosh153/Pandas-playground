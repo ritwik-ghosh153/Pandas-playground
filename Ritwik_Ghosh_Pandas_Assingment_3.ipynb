{
  "nbformat": 4,
  "nbformat_minor": 0,
  "metadata": {
    "kernelspec": {
      "display_name": "Python 3",
      "language": "python",
      "name": "python3"
    },
    "language_info": {
      "codemirror_mode": {
        "name": "ipython",
        "version": 3
      },
      "file_extension": ".py",
      "mimetype": "text/x-python",
      "name": "python",
      "nbconvert_exporter": "python",
      "pygments_lexer": "ipython3",
      "version": "3.7.1"
    },
    "colab": {
      "name": "Ritwik Ghosh - Pandas_Assingment-3.ipynb",
      "provenance": [],
      "collapsed_sections": []
    }
  },
  "cells": [
    {
      "cell_type": "markdown",
      "metadata": {
        "id": "NS2bs2gIcvnd",
        "colab_type": "text"
      },
      "source": [
        "# Pandas Assingment-3\n",
        "\n",
        "(Based on IPL matches and deliveries dataset)\n",
        "\n",
        "\n",
        "<a>https://www.kaggle.com/nowke9/ipldata#matches.csv</a>\n",
        "\n",
        "\n",
        "<a>https://www.kaggle.com/nowke9/ipldata#deliveries.csv<a>"
      ]
    },
    {
      "cell_type": "code",
      "metadata": {
        "id": "RciLAegKelSi",
        "colab_type": "code",
        "colab": {}
      },
      "source": [
        "import numpy as np\n",
        "import pandas as pd"
      ],
      "execution_count": 0,
      "outputs": []
    },
    {
      "cell_type": "code",
      "metadata": {
        "id": "l37UXabFfeFZ",
        "colab_type": "code",
        "colab": {}
      },
      "source": [
        "matches=pd.read_csv(\"/content/matches.csv\")\n",
        "deliveries=pd.read_csv(\"/content/deliveries.csv\")"
      ],
      "execution_count": 0,
      "outputs": []
    },
    {
      "cell_type": "code",
      "metadata": {
        "id": "9SjzKQYMepXX",
        "colab_type": "code",
        "outputId": "1ca137f9-ecb9-41a0-8373-fde5e312d4f0",
        "colab": {
          "base_uri": "https://localhost:8080/",
          "height": 54
        }
      },
      "source": [
        "from google.colab import drive\n",
        "drive.mount('/content/drive')"
      ],
      "execution_count": 0,
      "outputs": [
        {
          "output_type": "stream",
          "text": [
            "Drive already mounted at /content/drive; to attempt to forcibly remount, call drive.mount(\"/content/drive\", force_remount=True).\n"
          ],
          "name": "stdout"
        }
      ]
    },
    {
      "cell_type": "code",
      "metadata": {
        "id": "zHZI_22q0ruW",
        "colab_type": "code",
        "outputId": "5dda94ba-e4b8-4f61-bebb-4e017a384e99",
        "colab": {
          "base_uri": "https://localhost:8080/",
          "height": 332
        }
      },
      "source": [
        "matches.head(3)"
      ],
      "execution_count": 0,
      "outputs": [
        {
          "output_type": "execute_result",
          "data": {
            "text/html": [
              "<div>\n",
              "<style scoped>\n",
              "    .dataframe tbody tr th:only-of-type {\n",
              "        vertical-align: middle;\n",
              "    }\n",
              "\n",
              "    .dataframe tbody tr th {\n",
              "        vertical-align: top;\n",
              "    }\n",
              "\n",
              "    .dataframe thead th {\n",
              "        text-align: right;\n",
              "    }\n",
              "</style>\n",
              "<table border=\"1\" class=\"dataframe\">\n",
              "  <thead>\n",
              "    <tr style=\"text-align: right;\">\n",
              "      <th></th>\n",
              "      <th>id</th>\n",
              "      <th>season</th>\n",
              "      <th>city</th>\n",
              "      <th>date</th>\n",
              "      <th>team1</th>\n",
              "      <th>team2</th>\n",
              "      <th>toss_winner</th>\n",
              "      <th>toss_decision</th>\n",
              "      <th>result</th>\n",
              "      <th>dl_applied</th>\n",
              "      <th>winner</th>\n",
              "      <th>win_by_runs</th>\n",
              "      <th>win_by_wickets</th>\n",
              "      <th>player_of_match</th>\n",
              "      <th>venue</th>\n",
              "      <th>umpire1</th>\n",
              "      <th>umpire2</th>\n",
              "      <th>umpire3</th>\n",
              "    </tr>\n",
              "  </thead>\n",
              "  <tbody>\n",
              "    <tr>\n",
              "      <th>0</th>\n",
              "      <td>1</td>\n",
              "      <td>2017</td>\n",
              "      <td>Hyderabad</td>\n",
              "      <td>2017-04-05</td>\n",
              "      <td>Sunrisers Hyderabad</td>\n",
              "      <td>Royal Challengers Bangalore</td>\n",
              "      <td>Royal Challengers Bangalore</td>\n",
              "      <td>field</td>\n",
              "      <td>normal</td>\n",
              "      <td>0</td>\n",
              "      <td>Sunrisers Hyderabad</td>\n",
              "      <td>35</td>\n",
              "      <td>0</td>\n",
              "      <td>Yuvraj Singh</td>\n",
              "      <td>Rajiv Gandhi International Stadium, Uppal</td>\n",
              "      <td>AY Dandekar</td>\n",
              "      <td>NJ Llong</td>\n",
              "      <td>NaN</td>\n",
              "    </tr>\n",
              "    <tr>\n",
              "      <th>1</th>\n",
              "      <td>2</td>\n",
              "      <td>2017</td>\n",
              "      <td>Pune</td>\n",
              "      <td>2017-04-06</td>\n",
              "      <td>Mumbai Indians</td>\n",
              "      <td>Rising Pune Supergiant</td>\n",
              "      <td>Rising Pune Supergiant</td>\n",
              "      <td>field</td>\n",
              "      <td>normal</td>\n",
              "      <td>0</td>\n",
              "      <td>Rising Pune Supergiant</td>\n",
              "      <td>0</td>\n",
              "      <td>7</td>\n",
              "      <td>SPD Smith</td>\n",
              "      <td>Maharashtra Cricket Association Stadium</td>\n",
              "      <td>A Nand Kishore</td>\n",
              "      <td>S Ravi</td>\n",
              "      <td>NaN</td>\n",
              "    </tr>\n",
              "    <tr>\n",
              "      <th>2</th>\n",
              "      <td>3</td>\n",
              "      <td>2017</td>\n",
              "      <td>Rajkot</td>\n",
              "      <td>2017-04-07</td>\n",
              "      <td>Gujarat Lions</td>\n",
              "      <td>Kolkata Knight Riders</td>\n",
              "      <td>Kolkata Knight Riders</td>\n",
              "      <td>field</td>\n",
              "      <td>normal</td>\n",
              "      <td>0</td>\n",
              "      <td>Kolkata Knight Riders</td>\n",
              "      <td>0</td>\n",
              "      <td>10</td>\n",
              "      <td>CA Lynn</td>\n",
              "      <td>Saurashtra Cricket Association Stadium</td>\n",
              "      <td>Nitin Menon</td>\n",
              "      <td>CK Nandan</td>\n",
              "      <td>NaN</td>\n",
              "    </tr>\n",
              "  </tbody>\n",
              "</table>\n",
              "</div>"
            ],
            "text/plain": [
              "   id  season       city  ...         umpire1    umpire2 umpire3\n",
              "0   1    2017  Hyderabad  ...     AY Dandekar   NJ Llong     NaN\n",
              "1   2    2017       Pune  ...  A Nand Kishore     S Ravi     NaN\n",
              "2   3    2017     Rajkot  ...     Nitin Menon  CK Nandan     NaN\n",
              "\n",
              "[3 rows x 18 columns]"
            ]
          },
          "metadata": {
            "tags": []
          },
          "execution_count": 32
        }
      ]
    },
    {
      "cell_type": "markdown",
      "metadata": {
        "id": "l825VSc3cvnq",
        "colab_type": "text"
      },
      "source": [
        "## Q1. Find out a City which has hosted most no. of IPL openers i.e first match of a season."
      ]
    },
    {
      "cell_type": "code",
      "metadata": {
        "id": "rVdA_h0qcvnr",
        "colab_type": "code",
        "outputId": "d23c4983-d125-4d89-bb3c-70f530e35b7f",
        "colab": {
          "base_uri": "https://localhost:8080/",
          "height": 34
        }
      },
      "source": [
        "matches.drop_duplicates(subset=\"season\",keep=\"first\")[\"city\"].value_counts().sort_values(ascending=False).index[0]"
      ],
      "execution_count": 0,
      "outputs": [
        {
          "output_type": "execute_result",
          "data": {
            "text/plain": [
              "'Chennai'"
            ]
          },
          "metadata": {
            "tags": []
          },
          "execution_count": 33
        }
      ]
    },
    {
      "cell_type": "code",
      "metadata": {
        "id": "n-qVlLfY7Ehl",
        "colab_type": "code",
        "outputId": "5589fa59-fd88-4295-b2cc-01bf4fccf023",
        "colab": {
          "base_uri": "https://localhost:8080/",
          "height": 459
        }
      },
      "source": [
        "deliveries.info()"
      ],
      "execution_count": 0,
      "outputs": [
        {
          "output_type": "stream",
          "text": [
            "<class 'pandas.core.frame.DataFrame'>\n",
            "RangeIndex: 179078 entries, 0 to 179077\n",
            "Data columns (total 21 columns):\n",
            "match_id            179078 non-null int64\n",
            "inning              179078 non-null int64\n",
            "batting_team        179078 non-null object\n",
            "bowling_team        179078 non-null object\n",
            "over                179078 non-null int64\n",
            "ball                179078 non-null int64\n",
            "batsman             179078 non-null object\n",
            "non_striker         179078 non-null object\n",
            "bowler              179078 non-null object\n",
            "is_super_over       179078 non-null int64\n",
            "wide_runs           179078 non-null int64\n",
            "bye_runs            179078 non-null int64\n",
            "legbye_runs         179078 non-null int64\n",
            "noball_runs         179078 non-null int64\n",
            "penalty_runs        179078 non-null int64\n",
            "batsman_runs        179078 non-null int64\n",
            "extra_runs          179078 non-null int64\n",
            "total_runs          179078 non-null int64\n",
            "player_dismissed    8834 non-null object\n",
            "dismissal_kind      8834 non-null object\n",
            "fielder             6448 non-null object\n",
            "dtypes: int64(13), object(8)\n",
            "memory usage: 28.7+ MB\n"
          ],
          "name": "stdout"
        }
      ]
    },
    {
      "cell_type": "markdown",
      "metadata": {
        "id": "2lNsw6Q0cvnz",
        "colab_type": "text"
      },
      "source": [
        "## Q2. Find out top-3 batsman who has scored most runs against Malinga."
      ]
    },
    {
      "cell_type": "code",
      "metadata": {
        "id": "7ooyp5YScIT1",
        "colab_type": "code",
        "outputId": "d105f9b6-0abc-40be-adba-113963aca7d3",
        "colab": {
          "base_uri": "https://localhost:8080/",
          "height": 102
        }
      },
      "source": [
        "#using groupby\n",
        "malinga=deliveries[deliveries[\"bowler\"]==\"SL Malinga\"][[\"batsman\",\"total_runs\"]]\n",
        "malinga.groupby(\"batsman\")[\"total_runs\"].sum().sort_values(ascending=False).head(3)"
      ],
      "execution_count": 0,
      "outputs": [
        {
          "output_type": "execute_result",
          "data": {
            "text/plain": [
              "batsman\n",
              "SR Watson         133\n",
              "AB de Villiers    130\n",
              "MS Dhoni           92\n",
              "Name: total_runs, dtype: int64"
            ]
          },
          "metadata": {
            "tags": []
          },
          "execution_count": 39
        }
      ]
    },
    {
      "cell_type": "code",
      "metadata": {
        "id": "G6DZLNb9cvn0",
        "colab_type": "code",
        "outputId": "0d6b7832-5cd0-48a8-cdd9-5b2261ace91d",
        "colab": {
          "base_uri": "https://localhost:8080/",
          "height": 68
        }
      },
      "source": [
        "#without groupby, just for fun\n",
        "malinga=deliveries[deliveries[\"bowler\"]==\"SL Malinga\"][[\"batsman\",\"total_runs\"]]\n",
        "from collections import defaultdict\n",
        "runs=defaultdict(int)\n",
        "for i in range(0,len(malinga)):\n",
        "    runs[malinga.iloc[i][\"batsman\"]]+=malinga.iloc[i][\"total_runs\"]\n",
        "for i in sorted(runs, key=runs.get, reverse=True)[0:3]:\n",
        "    print(i,\"=\",runs[i])"
      ],
      "execution_count": 0,
      "outputs": [
        {
          "output_type": "stream",
          "text": [
            "SR Watson = 133\n",
            "AB de Villiers = 130\n",
            "MS Dhoni = 92\n"
          ],
          "name": "stdout"
        }
      ]
    },
    {
      "cell_type": "markdown",
      "metadata": {
        "id": "EHQvu9vzcvn5",
        "colab_type": "text"
      },
      "source": [
        "## Q3. Make a function to find top bowler(in terms of most wickets) against any team. Take input as team."
      ]
    },
    {
      "cell_type": "code",
      "metadata": {
        "id": "tk-cMKnfcvn6",
        "colab_type": "code",
        "colab": {}
      },
      "source": [
        "def wickets(team):\n",
        "    x=deliveries[(deliveries[\"batting_team\"]==team) & (deliveries[\"player_dismissed\"].isnull()==False)][\"bowler\"].value_counts()\n",
        "    print(x.index[0],\"with\",x[0],\"wickets\")"
      ],
      "execution_count": 0,
      "outputs": []
    },
    {
      "cell_type": "code",
      "metadata": {
        "id": "XaA1QVmkcvn8",
        "colab_type": "code",
        "outputId": "6d06a566-1802-4a23-efbf-71875795a339",
        "colab": {
          "base_uri": "https://localhost:8080/",
          "height": 34
        }
      },
      "source": [
        "wickets(\"Mumbai Indians\")"
      ],
      "execution_count": 0,
      "outputs": [
        {
          "output_type": "stream",
          "text": [
            "DJ Bravo with 31 wickets\n"
          ],
          "name": "stdout"
        }
      ]
    },
    {
      "cell_type": "markdown",
      "metadata": {
        "id": "QG-2Qyz8cvn-",
        "colab_type": "text"
      },
      "source": [
        "## Q4. Write a function which will take team name as input and return it's record of no. occurance in finals and no. of times won.  [Difficult]\n",
        "\n",
        "ex.-- if team is CSK-- \n",
        "CSK in finals-\n",
        "\n",
        "Played- 8\n",
        "Won- 3\n",
        "\n",
        "If any team which has not played in finals like Gujrat Lions\n",
        "\n",
        "Gujrat Lions in finals-\n",
        "\n",
        "Played-0\n"
      ]
    },
    {
      "cell_type": "code",
      "metadata": {
        "id": "GpSYtuGkcvn_",
        "colab_type": "code",
        "colab": {}
      },
      "source": [
        "def wins(team):\n",
        "    finals=matches.drop_duplicates(subset=[\"season\"],keep=\"last\")\n",
        "    played=0\n",
        "    if team in finals[\"team1\"].value_counts().index:\n",
        "        played=finals[\"team1\"].value_counts()[team]\n",
        "    if team in finals[\"team2\"].value_counts().index:\n",
        "        played+=finals[\"team2\"].value_counts()[team]\n",
        "    if played==0:\n",
        "        print(\"Played=\",played)\n",
        "    if played>0:\n",
        "        print(\"Played=\",played,\", Won=\",len(finals[finals[\"winner\"]==team]))"
      ],
      "execution_count": 0,
      "outputs": []
    },
    {
      "cell_type": "code",
      "metadata": {
        "id": "EDITwGKscvoB",
        "colab_type": "code",
        "outputId": "d6e46133-83cf-4489-d230-28052eaa815b",
        "colab": {
          "base_uri": "https://localhost:8080/",
          "height": 34
        }
      },
      "source": [
        "wins(\"Kolkata Knight Riders\")"
      ],
      "execution_count": 0,
      "outputs": [
        {
          "output_type": "stream",
          "text": [
            "Played= 2 , Won= 2\n"
          ],
          "name": "stdout"
        }
      ]
    },
    {
      "cell_type": "code",
      "metadata": {
        "id": "Ma1mvWqZ-LJM",
        "colab_type": "code",
        "outputId": "ef5659ae-11a0-4962-a295-238809b488c3",
        "colab": {
          "base_uri": "https://localhost:8080/",
          "height": 34
        }
      },
      "source": [
        "wins(\"Gujarat Lions\")"
      ],
      "execution_count": 0,
      "outputs": [
        {
          "output_type": "stream",
          "text": [
            "Played= 0\n"
          ],
          "name": "stdout"
        }
      ]
    },
    {
      "cell_type": "markdown",
      "metadata": {
        "id": "88dwUxy3cvoD",
        "colab_type": "text"
      },
      "source": [
        "## Q5. Write a function which will take a input as batsman and in output it gives total runs scored against each team. [Medium]\n",
        "\n",
        "\n"
      ]
    },
    {
      "cell_type": "code",
      "metadata": {
        "id": "ZUJElbOLcvoD",
        "colab_type": "code",
        "colab": {}
      },
      "source": [
        "def runs_per_team(batsman):\n",
        "    return deliveries[deliveries[\"batsman\"]==batsman][[\"bowling_team\",\"total_runs\"]].groupby(\"bowling_team\").sum()"
      ],
      "execution_count": 0,
      "outputs": []
    },
    {
      "cell_type": "code",
      "metadata": {
        "id": "Npt8T1ADcvoF",
        "colab_type": "code",
        "outputId": "f1659d90-3e9e-49e4-bc47-a84128e2d9de",
        "colab": {
          "base_uri": "https://localhost:8080/",
          "height": 545
        }
      },
      "source": [
        "runs_per_team(\"DA Warner\")"
      ],
      "execution_count": 0,
      "outputs": [
        {
          "output_type": "execute_result",
          "data": {
            "text/html": [
              "<div>\n",
              "<style scoped>\n",
              "    .dataframe tbody tr th:only-of-type {\n",
              "        vertical-align: middle;\n",
              "    }\n",
              "\n",
              "    .dataframe tbody tr th {\n",
              "        vertical-align: top;\n",
              "    }\n",
              "\n",
              "    .dataframe thead th {\n",
              "        text-align: right;\n",
              "    }\n",
              "</style>\n",
              "<table border=\"1\" class=\"dataframe\">\n",
              "  <thead>\n",
              "    <tr style=\"text-align: right;\">\n",
              "      <th></th>\n",
              "      <th>total_runs</th>\n",
              "    </tr>\n",
              "    <tr>\n",
              "      <th>bowling_team</th>\n",
              "      <th></th>\n",
              "    </tr>\n",
              "  </thead>\n",
              "  <tbody>\n",
              "    <tr>\n",
              "      <th>Chennai Super Kings</th>\n",
              "      <td>466</td>\n",
              "    </tr>\n",
              "    <tr>\n",
              "      <th>Deccan Chargers</th>\n",
              "      <td>243</td>\n",
              "    </tr>\n",
              "    <tr>\n",
              "      <th>Delhi Capitals</th>\n",
              "      <td>69</td>\n",
              "    </tr>\n",
              "    <tr>\n",
              "      <th>Delhi Daredevils</th>\n",
              "      <td>277</td>\n",
              "    </tr>\n",
              "    <tr>\n",
              "      <th>Gujarat Lions</th>\n",
              "      <td>349</td>\n",
              "    </tr>\n",
              "    <tr>\n",
              "      <th>Kings XI Punjab</th>\n",
              "      <td>876</td>\n",
              "    </tr>\n",
              "    <tr>\n",
              "      <th>Kochi Tuskers Kerala</th>\n",
              "      <td>18</td>\n",
              "    </tr>\n",
              "    <tr>\n",
              "      <th>Kolkata Knight Riders</th>\n",
              "      <td>873</td>\n",
              "    </tr>\n",
              "    <tr>\n",
              "      <th>Mumbai Indians</th>\n",
              "      <td>511</td>\n",
              "    </tr>\n",
              "    <tr>\n",
              "      <th>Pune Warriors</th>\n",
              "      <td>123</td>\n",
              "    </tr>\n",
              "    <tr>\n",
              "      <th>Rajasthan Royals</th>\n",
              "      <td>358</td>\n",
              "    </tr>\n",
              "    <tr>\n",
              "      <th>Rising Pune Supergiant</th>\n",
              "      <td>87</td>\n",
              "    </tr>\n",
              "    <tr>\n",
              "      <th>Rising Pune Supergiants</th>\n",
              "      <td>12</td>\n",
              "    </tr>\n",
              "    <tr>\n",
              "      <th>Royal Challengers Bangalore</th>\n",
              "      <td>704</td>\n",
              "    </tr>\n",
              "    <tr>\n",
              "      <th>Sunrisers Hyderabad</th>\n",
              "      <td>9</td>\n",
              "    </tr>\n",
              "  </tbody>\n",
              "</table>\n",
              "</div>"
            ],
            "text/plain": [
              "                             total_runs\n",
              "bowling_team                           \n",
              "Chennai Super Kings                 466\n",
              "Deccan Chargers                     243\n",
              "Delhi Capitals                       69\n",
              "Delhi Daredevils                    277\n",
              "Gujarat Lions                       349\n",
              "Kings XI Punjab                     876\n",
              "Kochi Tuskers Kerala                 18\n",
              "Kolkata Knight Riders               873\n",
              "Mumbai Indians                      511\n",
              "Pune Warriors                       123\n",
              "Rajasthan Royals                    358\n",
              "Rising Pune Supergiant               87\n",
              "Rising Pune Supergiants              12\n",
              "Royal Challengers Bangalore         704\n",
              "Sunrisers Hyderabad                   9"
            ]
          },
          "metadata": {
            "tags": []
          },
          "execution_count": 26
        }
      ]
    },
    {
      "cell_type": "markdown",
      "metadata": {
        "id": "SCTDz1t_cvoH",
        "colab_type": "text"
      },
      "source": [
        ""
      ]
    }
  ]
}